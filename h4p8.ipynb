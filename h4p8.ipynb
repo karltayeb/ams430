{
 "cells": [
  {
   "cell_type": "code",
   "execution_count": 12,
   "metadata": {
    "collapsed": false
   },
   "outputs": [],
   "source": [
    "n <- 1000\n",
    "true.lambda <- 4\n",
    "poisson.draws <- rpois(n, lambda=true.lambda)"
   ]
  },
  {
   "cell_type": "code",
   "execution_count": 15,
   "metadata": {
    "collapsed": false
   },
   "outputs": [],
   "source": [
    "mean <- mean(poisson.draws)\n",
    "interval <- qnorm(0.975) * sqrt(mean / n)"
   ]
  },
  {
   "cell_type": "code",
   "execution_count": 16,
   "metadata": {
    "collapsed": false
   },
   "outputs": [
    {
     "data": {
      "text/html": [
       "3.98237869274915"
      ],
      "text/latex": [
       "3.98237869274915"
      ],
      "text/markdown": [
       "3.98237869274915"
      ],
      "text/plain": [
       "[1] 3.982379"
      ]
     },
     "metadata": {},
     "output_type": "display_data"
    }
   ],
   "source": [
    "mean - interval"
   ]
  },
  {
   "cell_type": "code",
   "execution_count": 17,
   "metadata": {
    "collapsed": false
   },
   "outputs": [
    {
     "data": {
      "text/html": [
       "4.23362130725085"
      ],
      "text/latex": [
       "4.23362130725085"
      ],
      "text/markdown": [
       "4.23362130725085"
      ],
      "text/plain": [
       "[1] 4.233621"
      ]
     },
     "metadata": {},
     "output_type": "display_data"
    }
   ],
   "source": [
    "mean + interval"
   ]
  }
 ],
 "metadata": {
  "anaconda-cloud": {},
  "kernelspec": {
   "display_name": "R",
   "language": "R",
   "name": "ir"
  },
  "language_info": {
   "codemirror_mode": "r",
   "file_extension": ".r",
   "mimetype": "text/x-r-source",
   "name": "R",
   "pygments_lexer": "r",
   "version": "3.3.2"
  }
 },
 "nbformat": 4,
 "nbformat_minor": 1
}
